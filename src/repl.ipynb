{
 "cells": [
  {
   "cell_type": "code",
   "execution_count": 1,
   "metadata": {},
   "outputs": [],
   "source": [
    "import plyfile\n",
    "import numpy as np\n",
    "import pathlib\n",
    "import mesh_utils\n",
    "import os\n",
    "import pickle\n",
    "import symmetry_compressor as symm\n",
    "from collections import defaultdict, Counter"
   ]
  },
  {
   "cell_type": "code",
   "execution_count": 2,
   "metadata": {},
   "outputs": [],
   "source": [
    "# data = plyfile.PlyData.read(r\"..\\data\\gemstone_ply\\Gemstone.ply\")\n",
    "mesh_path = pathlib.Path(r\"..\\data\\MeshLab_sample_meshes\\bunny10k.ply\")\n",
    "# mesh_path = pathlib.Path(r\"..\\data\\MeshLab_sample_meshes\\normalmap\\matteonormb.ply\")\n",
    "data = plyfile.PlyData.read(mesh_path)"
   ]
  },
  {
   "cell_type": "code",
   "execution_count": 7,
   "metadata": {},
   "outputs": [
    {
     "data": {
      "text/plain": [
       "numpy.ndarray"
      ]
     },
     "execution_count": 7,
     "metadata": {},
     "output_type": "execute_result"
    }
   ],
   "source": [
    "# Counter(map(len, data[\"face\"][\"vertex_indices\"])).keys()\n",
    "face_arr = data[\"face\"][\"vertex_indices\"]\n",
    "type(face_arr[0])"
   ]
  },
  {
   "cell_type": "code",
   "execution_count": 12,
   "metadata": {},
   "outputs": [
    {
     "data": {
      "text/plain": [
       "{'face', 'vertex'}"
      ]
     },
     "execution_count": 12,
     "metadata": {},
     "output_type": "execute_result"
    }
   ],
   "source": [
    "set(el.name for el in data.elements)"
   ]
  },
  {
   "cell_type": "code",
   "execution_count": 23,
   "metadata": {},
   "outputs": [
    {
     "data": {
      "text/plain": [
       "['vertex_indices', 'flags']"
      ]
     },
     "execution_count": 23,
     "metadata": {},
     "output_type": "execute_result"
    }
   ],
   "source": [
    "[p.name for p in data[\"face\"].properties]"
   ]
  },
  {
   "cell_type": "code",
   "execution_count": 21,
   "metadata": {},
   "outputs": [
    {
     "data": {
      "text/plain": [
       "Counter({0: 9944, 128: 23, 64: 17, 256: 15})"
      ]
     },
     "execution_count": 21,
     "metadata": {},
     "output_type": "execute_result"
    }
   ],
   "source": [
    "from collections import Counter\n",
    "Counter(f[1] for f in data[\"face\"])"
   ]
  },
  {
   "cell_type": "code",
   "execution_count": 4,
   "metadata": {},
   "outputs": [
    {
     "name": "stderr",
     "output_type": "stream",
     "text": [
      "traversing faces: 100%|██████████| 1000/1000 [00:00<00:00, 250047.93it/s]\n"
     ]
    },
    {
     "name": "stdout",
     "output_type": "stream",
     "text": [
      "Graph named '1-Skeleton' with 510 nodes and 1513 edges\n"
     ]
    },
    {
     "name": "stderr",
     "output_type": "stream",
     "text": [
      "processing subgraphs: 100%|██████████| 637/637 [00:00<00:00, 1005.33it/s]"
     ]
    },
    {
     "name": "stdout",
     "output_type": "stream",
     "text": [
      "extracted 1x G(2, 3), avg eff = 0.333, max eff = 0.333\n",
      "extracted 179x G(2, 2), avg eff = 0.250, max eff = 0.250\n",
      "NSCompressed(1-Skeleton, eff=0.120)\n"
     ]
    },
    {
     "name": "stderr",
     "output_type": "stream",
     "text": [
      "\n"
     ]
    }
   ],
   "source": [
    "wireframe = mesh_utils.skeleton(data)\n",
    "print(wireframe)\n",
    "wf_comp = symm.compress_bipartite(wireframe)\n",
    "print(wf_comp)"
   ]
  },
  {
   "cell_type": "code",
   "execution_count": 5,
   "metadata": {},
   "outputs": [],
   "source": [
    "edge_path = pathlib.Path(mesh_path.stem + \"_edges\").with_suffix(\".nscp\")\n",
    "# wf_comp.append_to_file(edge_path)\n",
    "wf_comp.serialize(edge_path)\n",
    "\n",
    "# with open(edge_path, \"wb\") as f:\n",
    "#     pickle.dump(wf_comp, f)\n",
    "#     # pickle.dump(wireframe, f)"
   ]
  },
  {
   "cell_type": "code",
   "execution_count": 13,
   "metadata": {},
   "outputs": [
    {
     "data": {
      "text/plain": [
       "numpy.ndarray"
      ]
     },
     "execution_count": 13,
     "metadata": {},
     "output_type": "execute_result"
    }
   ],
   "source": [
    "type(data[\"face\"][\"vertex_indices\"])#[0]"
   ]
  },
  {
   "cell_type": "code",
   "execution_count": 20,
   "metadata": {},
   "outputs": [],
   "source": [
    "vtx_path = pathlib.Path(mesh_path.stem + \"_vertices\").with_suffix(\".ply\")\n",
    "plyfile.PlyData([data[\"vertex\"]]).write(vtx_path)"
   ]
  },
  {
   "cell_type": "code",
   "execution_count": 15,
   "metadata": {},
   "outputs": [
    {
     "ename": "TypeError",
     "evalue": "only numpy arrays are supported",
     "output_type": "error",
     "traceback": [
      "\u001b[1;31m---------------------------------------------------------------------------\u001b[0m",
      "\u001b[1;31mTypeError\u001b[0m                                 Traceback (most recent call last)",
      "Cell \u001b[1;32mIn[15], line 1\u001b[0m\n\u001b[1;32m----> 1\u001b[0m el \u001b[38;5;241m=\u001b[39m \u001b[43mplyfile\u001b[49m\u001b[38;5;241;43m.\u001b[39;49m\u001b[43mPlyElement\u001b[49m\u001b[38;5;241;43m.\u001b[39;49m\u001b[43mdescribe\u001b[49m\u001b[43m(\u001b[49m\u001b[43mdata\u001b[49m\u001b[43m[\u001b[49m\u001b[38;5;124;43m\"\u001b[39;49m\u001b[38;5;124;43mvertex\u001b[39;49m\u001b[38;5;124;43m\"\u001b[39;49m\u001b[43m]\u001b[49m\u001b[43m,\u001b[49m\u001b[43m \u001b[49m\u001b[38;5;124;43m\"\u001b[39;49m\u001b[38;5;124;43mvertex\u001b[39;49m\u001b[38;5;124;43m\"\u001b[39;49m\u001b[43m)\u001b[49m\n",
      "File \u001b[1;32mc:\\Users\\andre\\AppData\\Local\\Programs\\Python\\Python312\\Lib\\site-packages\\plyfile.py:454\u001b[0m, in \u001b[0;36mPlyElement.describe\u001b[1;34m(data, name, len_types, val_types, comments)\u001b[0m\n\u001b[0;32m    423\u001b[0m \u001b[38;5;250m\u001b[39m\u001b[38;5;124;03m\"\"\"\u001b[39;00m\n\u001b[0;32m    424\u001b[0m \u001b[38;5;124;03mConstruct a `PlyElement` instance from an array's metadata.\u001b[39;00m\n\u001b[0;32m    425\u001b[0m \n\u001b[1;32m   (...)\u001b[0m\n\u001b[0;32m    451\u001b[0m \u001b[38;5;124;03mTypeError, ValueError\u001b[39;00m\n\u001b[0;32m    452\u001b[0m \u001b[38;5;124;03m\"\"\"\u001b[39;00m\n\u001b[0;32m    453\u001b[0m \u001b[38;5;28;01mif\u001b[39;00m \u001b[38;5;129;01mnot\u001b[39;00m \u001b[38;5;28misinstance\u001b[39m(data, _np\u001b[38;5;241m.\u001b[39mndarray):\n\u001b[1;32m--> 454\u001b[0m     \u001b[38;5;28;01mraise\u001b[39;00m \u001b[38;5;167;01mTypeError\u001b[39;00m(\u001b[38;5;124m\"\u001b[39m\u001b[38;5;124monly numpy arrays are supported\u001b[39m\u001b[38;5;124m\"\u001b[39m)\n\u001b[0;32m    456\u001b[0m \u001b[38;5;28;01mif\u001b[39;00m \u001b[38;5;28mlen\u001b[39m(data\u001b[38;5;241m.\u001b[39mshape) \u001b[38;5;241m!=\u001b[39m \u001b[38;5;241m1\u001b[39m:\n\u001b[0;32m    457\u001b[0m     \u001b[38;5;28;01mraise\u001b[39;00m \u001b[38;5;167;01mValueError\u001b[39;00m(\u001b[38;5;124m\"\u001b[39m\u001b[38;5;124monly one-dimensional arrays are \u001b[39m\u001b[38;5;124m\"\u001b[39m\n\u001b[0;32m    458\u001b[0m                      \u001b[38;5;124m\"\u001b[39m\u001b[38;5;124msupported\u001b[39m\u001b[38;5;124m\"\u001b[39m)\n",
      "\u001b[1;31mTypeError\u001b[0m: only numpy arrays are supported"
     ]
    }
   ],
   "source": [
    "el = plyfile.PlyElement.describe(data[\"vertex\"], \"vertex\")"
   ]
  },
  {
   "cell_type": "code",
   "execution_count": 7,
   "metadata": {},
   "outputs": [
    {
     "name": "stdout",
     "output_type": "stream",
     "text": [
      "       Graph | \"karate_club\"\n",
      "       Nodes | 34 (iso=0)\n",
      "       Edges | 78 (loop=0)\n",
      "      Degree | 4.59 [1..17]\n",
      "     Density | 0.14\n",
      "         LCC | 100.0% (n=1)\n",
      "  Clustering | 0.5706\n",
      "\n"
     ]
    }
   ],
   "source": [
    "\n",
    "G = net.read_pajek(\"karate_club\", data_folder=\"..\\\\data\\\\networks\")\n",
    "G = nx.Graph(G)\n",
    "_ = net.info(G)"
   ]
  },
  {
   "cell_type": "code",
   "execution_count": 14,
   "metadata": {},
   "outputs": [
    {
     "data": {
      "text/plain": [
       "(0,\n",
       " {1, 2, 3, 4, 5, 6, 7, 8, 10, 11, 12, 13, 17, 19, 21, 31},\n",
       " {0, 9, 16, 24, 25, 27, 28, 30, 32, 33})"
      ]
     },
     "execution_count": 14,
     "metadata": {},
     "output_type": "execute_result"
    }
   ],
   "source": [
    "x = next(iter(G.nodes))\n",
    "\n",
    "U = set(G.neighbors(x))\n",
    "V = set()\n",
    "for u in U:\n",
    "    V.update(G.neighbors(u))\n",
    "V -= U\n",
    "x, U, V"
   ]
  },
  {
   "cell_type": "code",
   "execution_count": 15,
   "metadata": {},
   "outputs": [
    {
     "data": {
      "text/plain": [
       "set()"
      ]
     },
     "execution_count": 15,
     "metadata": {},
     "output_type": "execute_result"
    }
   ],
   "source": [
    "U & V"
   ]
  },
  {
   "cell_type": "code",
   "execution_count": 16,
   "metadata": {},
   "outputs": [
    {
     "name": "stdout",
     "output_type": "stream",
     "text": [
      "True\n",
      "True\n",
      "True\n",
      "True\n",
      "True\n",
      "True\n",
      "True\n",
      "True\n",
      "True\n",
      "True\n",
      "True\n",
      "True\n",
      "True\n",
      "True\n",
      "True\n",
      "True\n",
      "False\n",
      "True\n",
      "False\n",
      "False\n",
      "False\n",
      "False\n",
      "False\n",
      "False\n",
      "False\n",
      "False\n",
      "False\n",
      "False\n",
      "False\n",
      "False\n",
      "False\n",
      "False\n",
      "False\n",
      "False\n",
      "False\n",
      "False\n",
      "True\n",
      "True\n",
      "False\n",
      "False\n",
      "False\n",
      "False\n",
      "False\n",
      "False\n",
      "False\n",
      "False\n",
      "False\n",
      "False\n",
      "False\n",
      "False\n",
      "False\n",
      "False\n",
      "False\n",
      "False\n",
      "False\n",
      "False\n",
      "False\n",
      "False\n",
      "False\n",
      "False\n",
      "False\n",
      "False\n",
      "False\n",
      "True\n",
      "False\n",
      "False\n",
      "False\n",
      "False\n",
      "False\n",
      "False\n",
      "False\n",
      "False\n",
      "False\n",
      "False\n",
      "False\n",
      "False\n",
      "False\n",
      "False\n",
      "False\n",
      "True\n",
      "False\n",
      "True\n",
      "False\n",
      "False\n",
      "False\n",
      "False\n",
      "False\n",
      "False\n",
      "False\n",
      "False\n",
      "False\n",
      "False\n",
      "False\n",
      "False\n",
      "False\n",
      "False\n",
      "False\n",
      "True\n",
      "False\n",
      "False\n",
      "False\n",
      "False\n",
      "False\n",
      "False\n",
      "False\n",
      "False\n",
      "False\n",
      "False\n",
      "False\n",
      "False\n",
      "False\n",
      "True\n",
      "True\n",
      "False\n",
      "False\n",
      "False\n",
      "False\n",
      "False\n",
      "False\n",
      "True\n",
      "False\n",
      "False\n",
      "False\n",
      "False\n",
      "False\n",
      "False\n",
      "False\n",
      "False\n",
      "False\n",
      "True\n",
      "False\n",
      "False\n",
      "False\n",
      "False\n",
      "False\n",
      "True\n",
      "False\n",
      "False\n",
      "False\n",
      "False\n",
      "False\n",
      "False\n",
      "False\n",
      "True\n",
      "False\n",
      "False\n",
      "False\n",
      "False\n",
      "False\n",
      "False\n",
      "False\n",
      "True\n",
      "False\n",
      "False\n",
      "False\n",
      "True\n",
      "False\n",
      "True\n",
      "False\n",
      "True\n"
     ]
    }
   ],
   "source": [
    "for v in V:\n",
    "    for u in U:\n",
    "        print(G.has_edge(u, v))"
   ]
  },
  {
   "cell_type": "code",
   "execution_count": 1,
   "metadata": {},
   "outputs": [],
   "source": [
    "import symmetry_compressor as sym\n",
    "import network_utils as net\n",
    "import networkx as nx\n"
   ]
  },
  {
   "cell_type": "code",
   "execution_count": 2,
   "metadata": {},
   "outputs": [
    {
     "name": "stdout",
     "output_type": "stream",
     "text": [
      "B(2,3) NSCompressible: True\n"
     ]
    },
    {
     "data": {
      "image/png": "[encoded data removed]",
      "text/plain": [
       "<Figure size 640x480 with 1 Axes>"
      ]
     },
     "metadata": {},
     "output_type": "display_data"
    }
   ],
   "source": [
    "u,v = 2,3\n",
    "B = nx.complete_bipartite_graph(u, v)\n",
    "# B.remove_edge(0, 5)\n",
    "print(f\"B({u},{v}) NSCompressible: {B.number_of_edges() > (v+u-1+u*v)/2}\")\n",
    "nx.draw(B, with_labels=True)"
   ]
  },
  {
   "cell_type": "code",
   "execution_count": 3,
   "metadata": {},
   "outputs": [
    {
     "name": "stdout",
     "output_type": "stream",
     "text": [
      "removed K((3, 2)), eff = 0.33\n",
      "eff: 0.3333333333333333\n",
      "residual: [(0, 2), (1, 2)]\n",
      "symm. diff.: []\n",
      "edge perm: VertexPermutation(cycles=[[2, 3, 4]])\n"
     ]
    }
   ],
   "source": [
    "Bc = sym.compress_bipartite(B)\n",
    "print(\"eff:\", Bc.relative_efficiency(B.number_of_edges()))\n",
    "print(\"residual:\", Bc.H_resid.edges)\n",
    "print(\"symm. diff.:\", Bc.G_diff_H)\n",
    "print(\"edge perm:\", Bc.perm)"
   ]
  },
  {
   "cell_type": "code",
   "execution_count": 4,
   "metadata": {},
   "outputs": [
    {
     "name": "stdout",
     "output_type": "stream",
     "text": [
      "decompressed H, then removed 0, added 0\n"
     ]
    }
   ],
   "source": [
    "Bd = Bc.decompress()\n",
    "# nx.draw(Bd, with_labels=True)\n",
    "assert nx.is_bipartite(Bd)\n",
    "assert nx.is_isomorphic(B, Bd)"
   ]
  },
  {
   "cell_type": "code",
   "execution_count": 41,
   "metadata": {},
   "outputs": [
    {
     "data": {
      "text/plain": [
       "False"
      ]
     },
     "execution_count": 41,
     "metadata": {},
     "output_type": "execute_result"
    }
   ],
   "source": [
    "g1 = nx.cycle_graph(4)\n",
    "g2 = nx.cycle_graph(3)\n",
    "\n",
    "def equal_graphs(g1, g2):\n",
    "    if g1.number_of_nodes() != g2.number_of_nodes():\n",
    "        return False\n",
    "    if g1.number_of_edges() != g2.number_of_edges():\n",
    "        return False\n",
    "    \n",
    "    if set(g1.nodes) != set(g2.nodes):\n",
    "        return False\n",
    "    \n",
    "    if set(g1.edges) != set(g2.edges):\n",
    "        return False\n",
    "\n",
    "    return True\n",
    "\n",
    "equal_graphs(g1, g2)"
   ]
  },
  {
   "cell_type": "code",
   "execution_count": 1,
   "metadata": {},
   "outputs": [
    {
     "name": "stdout",
     "output_type": "stream",
     "text": [
      "1 1\n",
      "2 2\n",
      "3 6\n",
      "4 24\n",
      "5 120\n",
      "6 720\n",
      "7 5040\n",
      "8 40320\n",
      "9 362880\n"
     ]
    }
   ],
   "source": [
    "fac = 1\n",
    "for i in range(1, 9 + 1):\n",
    "    fac *= i\n",
    "    print(i, fac)"
   ]
  },
  {
   "cell_type": "markdown",
   "metadata": {},
   "source": [
    "# isomorphism solver"
   ]
  },
  {
   "cell_type": "code",
   "execution_count": 1,
   "metadata": {},
   "outputs": [],
   "source": [
    "import networkx as nx\n",
    "import networkx.algorithms.isomorphism as iso"
   ]
  },
  {
   "cell_type": "code",
   "execution_count": 9,
   "metadata": {},
   "outputs": [],
   "source": [
    "subgraph = nx.complete_graph(4)\n",
    "G = subgraph.copy()\n",
    "nx.add_path(G, range(4, 8))\n",
    "subgraph = nx.convert_node_labels_to_integers(subgraph, first_label=100)"
   ]
  },
  {
   "cell_type": "code",
   "execution_count": 10,
   "metadata": {},
   "outputs": [
    {
     "name": "stdout",
     "output_type": "stream",
     "text": [
      "24\n",
      "[{0: 100, 1: 101, 2: 102, 3: 103}, {0: 100, 1: 101, 3: 102, 2: 103}, {0: 100, 2: 101, 1: 102, 3: 103}, {0: 100, 2: 101, 3: 102, 1: 103}, {0: 100, 3: 101, 1: 102, 2: 103}, {0: 100, 3: 101, 2: 102, 1: 103}, {1: 100, 0: 101, 2: 102, 3: 103}, {1: 100, 0: 101, 3: 102, 2: 103}, {1: 100, 2: 101, 0: 102, 3: 103}, {1: 100, 2: 101, 3: 102, 0: 103}, {1: 100, 3: 101, 0: 102, 2: 103}, {1: 100, 3: 101, 2: 102, 0: 103}, {2: 100, 0: 101, 1: 102, 3: 103}, {2: 100, 0: 101, 3: 102, 1: 103}, {2: 100, 1: 101, 0: 102, 3: 103}, {2: 100, 1: 101, 3: 102, 0: 103}, {2: 100, 3: 101, 0: 102, 1: 103}, {2: 100, 3: 101, 1: 102, 0: 103}, {3: 100, 0: 101, 1: 102, 2: 103}, {3: 100, 0: 101, 2: 102, 1: 103}, {3: 100, 1: 101, 0: 102, 2: 103}, {3: 100, 1: 101, 2: 102, 0: 103}, {3: 100, 2: 101, 0: 102, 1: 103}, {3: 100, 2: 101, 1: 102, 0: 103}]\n"
     ]
    }
   ],
   "source": [
    "matcher = iso.GraphMatcher(G, G2=subgraph, node_match=None, edge_match=None) # node and edge attributes are ignored\n",
    "ismorphisms = list(matcher.subgraph_isomorphisms_iter())\n",
    "print(len(ismorphisms))\n",
    "print(ismorphisms)"
   ]
  },
  {
   "cell_type": "markdown",
   "metadata": {},
   "source": [
    "### generating (compressed) graphlets"
   ]
  },
  {
   "cell_type": "code",
   "execution_count": 12,
   "metadata": {},
   "outputs": [],
   "source": [
    "atlas = nx.graph_atlas_g() # all graphs up to 7 nodes"
   ]
  },
  {
   "cell_type": "code",
   "execution_count": 29,
   "metadata": {},
   "outputs": [],
   "source": [
    "n_connected_of_len = {\n",
    "    1: 1,\n",
    "    2: 1,\n",
    "    3: 2,\n",
    "    4: 6, # ČM21 Table 2\n",
    "    5: 21,\n",
    "    6: 112,\n",
    "    7: 853,\n",
    "}"
   ]
  },
  {
   "cell_type": "code",
   "execution_count": 14,
   "metadata": {},
   "outputs": [
    {
     "data": {
      "text/plain": [
       "1253"
      ]
     },
     "execution_count": 14,
     "metadata": {},
     "output_type": "execute_result"
    }
   ],
   "source": [
    "len(atlas)"
   ]
  },
  {
   "cell_type": "code",
   "execution_count": null,
   "metadata": {},
   "outputs": [],
   "source": [
    "nx.draw(atlas[42], with_labels=True)"
   ]
  },
  {
   "cell_type": "code",
   "execution_count": 30,
   "metadata": {},
   "outputs": [],
   "source": [
    "from collections import defaultdict\n",
    "\n",
    "len2numconn = defaultdict(int)\n",
    "for g in atlas[1:]:\n",
    "    if nx.is_connected(g):\n",
    "        len2numconn[g.number_of_nodes()] += 1\n",
    "\n",
    "assert len2numconn == n_connected_of_len"
   ]
  },
  {
   "cell_type": "code",
   "execution_count": 33,
   "metadata": {},
   "outputs": [],
   "source": [
    "import itertools\n",
    "from sympy.combinatorics import Permutation\n",
    "\n",
    "def generate_permutations(n):\n",
    "    # Generate all permutations of a list of n elements\n",
    "    permutations = list(itertools.permutations(range(n)))\n",
    "\n",
    "    # Convert these permutations to cycle notation\n",
    "    cycle_notation_permutations = [Permutation(p).cyclic_form for p in permutations]\n",
    "\n",
    "    return cycle_notation_permutations"
   ]
  },
  {
   "cell_type": "code",
   "execution_count": 109,
   "metadata": {},
   "outputs": [],
   "source": [
    "from sympy.combinatorics.generators import symmetric\n",
    "all_perms = symmetric(4)\n",
    "i = 0"
   ]
  },
  {
   "cell_type": "code",
   "execution_count": 134,
   "metadata": {},
   "outputs": [
    {
     "ename": "StopIteration",
     "evalue": "",
     "output_type": "error",
     "traceback": [
      "\u001b[1;31m---------------------------------------------------------------------------\u001b[0m",
      "\u001b[1;31mStopIteration\u001b[0m                             Traceback (most recent call last)",
      "Cell \u001b[1;32mIn[134], line 2\u001b[0m\n\u001b[0;32m      1\u001b[0m i \u001b[38;5;241m+\u001b[39m\u001b[38;5;241m=\u001b[39m \u001b[38;5;241m1\u001b[39m\n\u001b[1;32m----> 2\u001b[0m \u001b[38;5;28;43mnext\u001b[39;49m\u001b[43m(\u001b[49m\u001b[43mall_perms\u001b[49m\u001b[43m)\u001b[49m\n",
      "\u001b[1;31mStopIteration\u001b[0m: "
     ]
    }
   ],
   "source": [
    "i += 1\n",
    "next(all_perms)"
   ]
  },
  {
   "cell_type": "code",
   "execution_count": 135,
   "metadata": {},
   "outputs": [
    {
     "data": {
      "text/plain": [
       "25"
      ]
     },
     "execution_count": 135,
     "metadata": {},
     "output_type": "execute_result"
    }
   ],
   "source": [
    "i"
   ]
  },
  {
   "cell_type": "code",
   "execution_count": 39,
   "metadata": {},
   "outputs": [
    {
     "data": {
      "text/plain": [
       "[0, 2, 1, 4, 3]"
      ]
     },
     "execution_count": 39,
     "metadata": {},
     "output_type": "execute_result"
    }
   ],
   "source": [
    "perm = Permutation(1,2)(4,3) # NOTE: inserts fixed point 0\n",
    "perm.list()"
   ]
  },
  {
   "cell_type": "code",
   "execution_count": 42,
   "metadata": {},
   "outputs": [
    {
     "data": {
      "text/latex": [
       "$\\displaystyle \\left( 1\\; 2\\; 3\\right)\\left( 4\\right)$"
      ],
      "text/plain": [
       "Permutation(4)(1, 2, 3)"
      ]
     },
     "execution_count": 42,
     "metadata": {},
     "output_type": "execute_result"
    }
   ],
   "source": [
    "perm.next_lex()"
   ]
  },
  {
   "cell_type": "code",
   "execution_count": 155,
   "metadata": {},
   "outputs": [],
   "source": [
    "def repr_size(perm: Permutation) -> int:\n",
    "    \"\"\"size of permutation, as number of edges (ČM21 encoding)\"\"\"\n",
    "    s = 0\n",
    "    for cycle_len, mult in perm.cycle_structure.items():\n",
    "        if cycle_len > 1:\n",
    "            s += (cycle_len - 1) * mult\n",
    "    return s"
   ]
  },
  {
   "cell_type": "code",
   "execution_count": 158,
   "metadata": {},
   "outputs": [
    {
     "data": {
      "text/plain": [
       "2"
      ]
     },
     "execution_count": 158,
     "metadata": {},
     "output_type": "execute_result"
    }
   ],
   "source": [
    "G = nx.cycle_graph(range(1, 4 + 1))\n",
    "pi = Permutation(1,2)(4,3)\n",
    "# pi = Permutation(1,3, size=5)\n",
    "# pi = Permutation(1,2,3,4)\n",
    "repr_size(pi)"
   ]
  },
  {
   "cell_type": "code",
   "execution_count": 166,
   "metadata": {},
   "outputs": [],
   "source": [
    "from symmetry_compressor import eq_edges\n",
    "\n",
    "def NSresidual_graph(G: nx.Graph, pi: Permutation) -> list:\n",
    "    G = G.copy()\n",
    "    repr_edges = []\n",
    "    while G.number_of_edges() > 0:\n",
    "        edge = next(iter(G.edges))\n",
    "        repr_edges.append(edge)\n",
    "        G.remove_edge(*edge)\n",
    "\n",
    "        e = edge\n",
    "        i=0\n",
    "        while True:\n",
    "            i += 1\n",
    "            if i > 100: raise Exception(\"Infinite loop\")\n",
    "            e = (pi(e[0]), pi(e[1]))\n",
    "            if eq_edges(e, edge):\n",
    "                break\n",
    "            \n",
    "            if G.has_edge(*e):\n",
    "                G.remove_edge(*e)\n",
    "            else:\n",
    "                return None # pi is not a symmetry of G\n",
    "\n",
    "    repr_edges\n",
    "    return repr_edges"
   ]
  },
  {
   "cell_type": "code",
   "execution_count": 168,
   "metadata": {},
   "outputs": [],
   "source": [
    "def symmetry_compressible(G: nx.Graph) -> bool:\n",
    "    G = nx.convert_node_labels_to_integers(G, first_label=0)\n",
    "    for pi in symmetric(G.number_of_nodes()):\n",
    "        # print(pi.cyclic_form)\n",
    "        if (resid := NSresidual_graph(G, pi)) is None: continue\n",
    "\n",
    "        if repr_size(pi) + len(resid) < G.number_of_edges():\n",
    "            # print(f\"{pi.cyclic_form} {resid}\")\n",
    "            return True\n",
    "        \n",
    "    return False"
   ]
  },
  {
   "cell_type": "code",
   "execution_count": 169,
   "metadata": {},
   "outputs": [
    {
     "name": "stderr",
     "output_type": "stream",
     "text": [
      "100%|██████████| 1252/1252 [00:52<00:00, 23.99it/s]\n"
     ]
    },
    {
     "data": {
      "text/plain": [
       "defaultdict(int, {4: 3, 5: 13, 6: 87, 7: 649})"
      ]
     },
     "execution_count": 169,
     "metadata": {},
     "output_type": "execute_result"
    }
   ],
   "source": [
    "from tqdm import tqdm\n",
    "\n",
    "len2numSC = defaultdict(int)\n",
    "\n",
    "for g in tqdm(atlas[1:]):\n",
    "    if nx.is_connected(g) and symmetry_compressible(g):\n",
    "        len2numSC[g.number_of_nodes()] += 1\n",
    "\n",
    "len2numSC"
   ]
  },
  {
   "cell_type": "markdown",
   "metadata": {},
   "source": [
    "### reading the cached graphlets\n"
   ]
  },
  {
   "cell_type": "code",
   "execution_count": 172,
   "metadata": {},
   "outputs": [
    {
     "data": {
      "text/plain": [
       "[{'index': 13, 'efficiency': 0.16666666666666663},\n",
       " {'index': 14, 'efficiency': 0.16666666666666663},\n",
       " {'index': 15, 'efficiency': 0.375},\n",
       " {'index': 16, 'efficiency': 0.375},\n",
       " {'index': 17, 'efficiency': 0.5},\n",
       " {'index': 18, 'efficiency': 0.5833333333333333}]"
      ]
     },
     "execution_count": 172,
     "metadata": {},
     "output_type": "execute_result"
    }
   ],
   "source": [
    "import json\n",
    "from pathlib import Path\n",
    "\n",
    "cache_path = Path(\"../cache\")\n",
    "with open(cache_path / \"atlas_efficiency_4.json\", \"r\") as f:\n",
    "    atlas_efficiency = json.load(f)\n",
    "\n",
    "atlas_efficiency"
   ]
  },
  {
   "cell_type": "code",
   "execution_count": 173,
   "metadata": {},
   "outputs": [
    {
     "data": {
      "text/plain": [
       "AtlasGraphlet(index=13, efficiency=0.16666666666666663)"
      ]
     },
     "execution_count": 173,
     "metadata": {},
     "output_type": "execute_result"
    }
   ],
   "source": [
    "import graphlets\n",
    "\n",
    "graphlets.AtlasGraphlet(**atlas_efficiency[0])"
   ]
  }
 ],
 "metadata": {
  "kernelspec": {
   "display_name": "Python 3",
   "language": "python",
   "name": "python3"
  },
  "language_info": {
   "codemirror_mode": {
    "name": "ipython",
    "version": 3
   },
   "file_extension": ".py",
   "mimetype": "text/x-python",
   "name": "python",
   "nbconvert_exporter": "python",
   "pygments_lexer": "ipython3",
   "version": "3.12.0"
  }
 },
 "nbformat": 4,
 "nbformat_minor": 2
}
